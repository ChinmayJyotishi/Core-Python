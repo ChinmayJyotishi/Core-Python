{
 "cells": [
  {
   "cell_type": "code",
   "execution_count": 4,
   "metadata": {},
   "outputs": [
    {
     "name": "stdout",
     "output_type": "stream",
     "text": [
      "You guessed a larger number \n",
      "You guessed a smaller number\n",
      "You guessed a smaller number\n",
      "You guessed a larger number \n",
      "Congratulation your guess is correct.\n",
      "you have taken 5 steps to guess correct\n"
     ]
    }
   ],
   "source": [
    "import random as r\n",
    "\n",
    "rm=r.randint(1,10)\n",
    "count=0\n",
    "while True:\n",
    "    count+=1\n",
    "    choice =int(input(\"Guess a number between 1-10: \"))\n",
    "\n",
    "    if choice==rm:\n",
    "        print(\"Congratulation your guess is correct.\")\n",
    "        break\n",
    "    elif choice>rm:\n",
    "        print(\"You guessed a larger number \")\n",
    "    else:\n",
    "        print(\"You guessed a smaller number\")\n",
    "print(f'you have taken {count} steps to guess correct')"
   ]
  }
 ],
 "metadata": {
  "kernelspec": {
   "display_name": "Python 3",
   "language": "python",
   "name": "python3"
  },
  "language_info": {
   "codemirror_mode": {
    "name": "ipython",
    "version": 3
   },
   "file_extension": ".py",
   "mimetype": "text/x-python",
   "name": "python",
   "nbconvert_exporter": "python",
   "pygments_lexer": "ipython3",
   "version": "3.10.4 (tags/v3.10.4:9d38120, Mar 23 2022, 23:13:41) [MSC v.1929 64 bit (AMD64)]"
  },
  "orig_nbformat": 4,
  "vscode": {
   "interpreter": {
    "hash": "27f6fea6f47ae512550f0b8facdbd035a93e1dd89633f7bf2dd00a2502c71d0d"
   }
  }
 },
 "nbformat": 4,
 "nbformat_minor": 2
}
