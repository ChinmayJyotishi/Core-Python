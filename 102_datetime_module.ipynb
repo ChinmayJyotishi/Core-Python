{
 "cells": [
  {
   "cell_type": "code",
   "execution_count": 2,
   "metadata": {},
   "outputs": [
    {
     "name": "stdout",
     "output_type": "stream",
     "text": [
      "2022-09-19\n",
      "19\n",
      "2022\n"
     ]
    }
   ],
   "source": [
    "import datetime\n",
    "# working with date \n",
    "d=datetime.date(2022,9,19)\n",
    "print(d)\n",
    "print(d.day)\n",
    "print(d.year)"
   ]
  },
  {
   "cell_type": "code",
   "execution_count": 23,
   "metadata": {},
   "outputs": [
    {
     "name": "stdout",
     "output_type": "stream",
     "text": [
      "10:09:15.085479\n",
      "10\n",
      "9\n",
      "15\n",
      "85479\n"
     ]
    }
   ],
   "source": [
    "t=datetime.time(10,9,15,85479)\n",
    "print(t)\n",
    "print(t.hour)\n",
    "print(t.minute)\n",
    "print(t.second)\n",
    "print(t.microsecond)\n"
   ]
  },
  {
   "cell_type": "code",
   "execution_count": 27,
   "metadata": {},
   "outputs": [
    {
     "name": "stdout",
     "output_type": "stream",
     "text": [
      "2022-09-25 10:23:06.089589\n",
      "2022\n",
      "9\n",
      "25\n",
      "10\n",
      "23\n",
      "6\n",
      "89589\n"
     ]
    }
   ],
   "source": [
    "dt=datetime.datetime(2022,9,25,10,23,6,89589)\n",
    "print(dt)\n",
    "print(dt.year)\n",
    "print(dt.month)\n",
    "print(dt.day)\n",
    "print(dt.hour)\n",
    "print(dt.minute)\n",
    "print(dt.second)\n",
    "print(dt.microsecond)\n"
   ]
  },
  {
   "cell_type": "code",
   "execution_count": 33,
   "metadata": {},
   "outputs": [
    {
     "name": "stdout",
     "output_type": "stream",
     "text": [
      "2023-01-12 21:01:17.795551\n"
     ]
    }
   ],
   "source": [
    "# current date time\n",
    "current_datetime=datetime.datetime.now()\n",
    "print(current_datetime)"
   ]
  },
  {
   "cell_type": "code",
   "execution_count": 37,
   "metadata": {},
   "outputs": [
    {
     "name": "stdout",
     "output_type": "stream",
     "text": [
      "GOOD EVENING\n"
     ]
    }
   ],
   "source": [
    "current_datetime=datetime.datetime.now()\n",
    "hr=current_datetime.hour #it will collect only hour\n",
    "\n",
    "if hr>6 and hr<12:\n",
    "    print(\"GOOD MORNING\")\n",
    "elif hr>12 and hr<18:\n",
    "       print(\"GOOD AFTERNOON\")\n",
    "elif hr>18 and hr<22:\n",
    "       print(\"GOOD EVENING\")\n",
    "else:\n",
    "        print(\"GOOD NIGHT\")\n"
   ]
  },
  {
   "cell_type": "code",
   "execution_count": 4,
   "metadata": {},
   "outputs": [
    {
     "name": "stdout",
     "output_type": "stream",
     "text": [
      "Thu\n",
      "Thursday\n"
     ]
    }
   ],
   "source": [
    "current_datetime=datetime.datetime.now()\n",
    "print(current_datetime.strftime('%a'))\n",
    "print(current_datetime.strftime('%A'))"
   ]
  }
 ],
 "metadata": {
  "kernelspec": {
   "display_name": "Python 3",
   "language": "python",
   "name": "python3"
  },
  "language_info": {
   "codemirror_mode": {
    "name": "ipython",
    "version": 3
   },
   "file_extension": ".py",
   "mimetype": "text/x-python",
   "name": "python",
   "nbconvert_exporter": "python",
   "pygments_lexer": "ipython3",
   "version": "3.10.4 (tags/v3.10.4:9d38120, Mar 23 2022, 23:13:41) [MSC v.1929 64 bit (AMD64)]"
  },
  "orig_nbformat": 4,
  "vscode": {
   "interpreter": {
    "hash": "27f6fea6f47ae512550f0b8facdbd035a93e1dd89633f7bf2dd00a2502c71d0d"
   }
  }
 },
 "nbformat": 4,
 "nbformat_minor": 2
}
