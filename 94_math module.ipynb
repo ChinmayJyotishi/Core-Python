{
 "cells": [
  {
   "cell_type": "code",
   "execution_count": 5,
   "metadata": {},
   "outputs": [
    {
     "name": "stdout",
     "output_type": "stream",
     "text": [
      "28.274333882308138\n"
     ]
    }
   ],
   "source": [
    "import math\n",
    "# r=3\n",
    "area=math.pi*3*3\n",
    "print(area)"
   ]
  },
  {
   "cell_type": "code",
   "execution_count": 7,
   "metadata": {},
   "outputs": [
    {
     "name": "stdout",
     "output_type": "stream",
     "text": [
      "3\n",
      "3\n"
     ]
    }
   ],
   "source": [
    "# print(math.e)\n",
    "# print(math.factorial(5))\n",
    "\n",
    "\n",
    "# # print(help(math))\n",
    "# print(math.ceil(2.1)) #it will give u the next int value\n",
    "print(math.ceil(2.9))\n",
    "\n",
    "\n"
   ]
  },
  {
   "cell_type": "code",
   "execution_count": 14,
   "metadata": {},
   "outputs": [
    {
     "name": "stdout",
     "output_type": "stream",
     "text": [
      "2\n",
      "2\n",
      "12.0\n",
      "12\n"
     ]
    },
    {
     "data": {
      "text/plain": [
       "120"
      ]
     },
     "execution_count": 14,
     "metadata": {},
     "output_type": "execute_result"
    }
   ],
   "source": [
    "print(math.floor(2.2))\n",
    "print(math.floor(2.9))\n",
    "\n",
    "print(math.sqrt(144))\n",
    "print(math.floor(math.sqrt(144))) #it will discard the zero\n",
    "math.factorial(5) \n"
   ]
  },
  {
   "cell_type": "code",
   "execution_count": 17,
   "metadata": {},
   "outputs": [
    {
     "name": "stdout",
     "output_type": "stream",
     "text": [
      "10.0\n",
      "50.0\n",
      "50.0\n"
     ]
    }
   ],
   "source": [
    "print(math.fabs(-10)) #it will convert the -ve value tp the +ve value\n",
    "print(math.fabs(-50))\n",
    "print(math.fabs(50))\n"
   ]
  },
  {
   "cell_type": "code",
   "execution_count": 19,
   "metadata": {},
   "outputs": [
    {
     "name": "stdout",
     "output_type": "stream",
     "text": [
      "0.0\n",
      "60.0\n"
     ]
    }
   ],
   "source": [
    "print(math.fmod(10,2)) #it wil give u the reminder value\n",
    "\n",
    "print(math.fsum([10,20,30])) #it will sum all the values \n"
   ]
  }
 ],
 "metadata": {
  "kernelspec": {
   "display_name": "Python 3",
   "language": "python",
   "name": "python3"
  },
  "language_info": {
   "codemirror_mode": {
    "name": "ipython",
    "version": 3
   },
   "file_extension": ".py",
   "mimetype": "text/x-python",
   "name": "python",
   "nbconvert_exporter": "python",
   "pygments_lexer": "ipython3",
   "version": "3.10.4"
  },
  "orig_nbformat": 4,
  "vscode": {
   "interpreter": {
    "hash": "27f6fea6f47ae512550f0b8facdbd035a93e1dd89633f7bf2dd00a2502c71d0d"
   }
  }
 },
 "nbformat": 4,
 "nbformat_minor": 2
}
