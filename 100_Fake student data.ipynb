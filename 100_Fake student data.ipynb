{
 "cells": [
  {
   "cell_type": "code",
   "execution_count": 38,
   "metadata": {},
   "outputs": [
    {
     "name": "stdout",
     "output_type": "stream",
     "text": [
      "fkzwm fteou\n"
     ]
    }
   ],
   "source": [
    "from random import *\n",
    "# generating fake charecters as a name\n",
    "alpha='abcdefghijklmnopqrstuvwxyz'\n",
    "fname=''\n",
    "lname=''\n",
    "for i in range(randint(3,13)):\n",
    "    fname=fname+choice(alpha)\n",
    "    lname=lname+choice(alpha)\n",
    "print(fname,lname)\n"
   ]
  },
  {
   "cell_type": "code",
   "execution_count": 66,
   "metadata": {},
   "outputs": [
    {
     "name": "stdout",
     "output_type": "stream",
     "text": [
      "9421855779\n"
     ]
    }
   ],
   "source": [
    "# generate fake mobile number\n",
    "digit='0123456789'\n",
    "# my number should start from 9/8/7\n",
    "mob=choice('987')\n",
    "for i in range(9):\n",
    "    mob=mob+choice(digit)\n",
    "print(mob)"
   ]
  },
  {
   "cell_type": "code",
   "execution_count": 120,
   "metadata": {},
   "outputs": [
    {
     "name": "stdout",
     "output_type": "stream",
     "text": [
      "33\n"
     ]
    }
   ],
   "source": [
    "# age\n",
    "age=randint(9,35)\n",
    "print(age)"
   ]
  },
  {
   "cell_type": "code",
   "execution_count": 121,
   "metadata": {},
   "outputs": [
    {
     "name": "stdout",
     "output_type": "stream",
     "text": [
      "kerla\n"
     ]
    }
   ],
   "source": [
    "# address\n",
    "cities=['bbsr','cuttack','rairangpur','kerla']\n",
    "address=choice(cities)\n",
    "print(address)"
   ]
  },
  {
   "cell_type": "code",
   "execution_count": 122,
   "metadata": {},
   "outputs": [
    {
     "name": "stdout",
     "output_type": "stream",
     "text": [
      "fkzwm   9421855779  33  kerla\n",
      "fkzwm   9421855779  33  kerla\n",
      "fkzwm   9421855779  33  kerla\n",
      "fkzwm   9421855779  33  kerla\n",
      "fkzwm   9421855779  33  kerla\n",
      "fkzwm   9421855779  33  kerla\n",
      "fkzwm   9421855779  33  kerla\n",
      "fkzwm   9421855779  33  kerla\n",
      "fkzwm   9421855779  33  kerla\n",
      "fkzwm   9421855779  33  kerla\n"
     ]
    }
   ],
   "source": [
    "for i in range(10):\n",
    "    print(fname,\" \",mob,'',age,'',address)"
   ]
  }
 ],
 "metadata": {
  "kernelspec": {
   "display_name": "Python 3",
   "language": "python",
   "name": "python3"
  },
  "language_info": {
   "codemirror_mode": {
    "name": "ipython",
    "version": 3
   },
   "file_extension": ".py",
   "mimetype": "text/x-python",
   "name": "python",
   "nbconvert_exporter": "python",
   "pygments_lexer": "ipython3",
   "version": "3.10.4 (tags/v3.10.4:9d38120, Mar 23 2022, 23:13:41) [MSC v.1929 64 bit (AMD64)]"
  },
  "orig_nbformat": 4,
  "vscode": {
   "interpreter": {
    "hash": "27f6fea6f47ae512550f0b8facdbd035a93e1dd89633f7bf2dd00a2502c71d0d"
   }
  }
 },
 "nbformat": 4,
 "nbformat_minor": 2
}
