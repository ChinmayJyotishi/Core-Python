{
 "cells": [
  {
   "cell_type": "code",
   "execution_count": 1,
   "metadata": {},
   "outputs": [
    {
     "name": "stdout",
     "output_type": "stream",
     "text": [
      "Kelli Ferguson\n",
      "frankcurtis@example.com\n",
      "88419 Gutierrez Skyway\n",
      "Maciasmouth, KS 98856\n",
      "Pitcairn Islands\n",
      "New Jennifertown\n",
      "kimberly66@frazier-miller.com\n",
      "2002-09-07\n"
     ]
    }
   ],
   "source": [
    "from faker import Faker\n",
    "\n",
    "#object creation\n",
    "fake=Faker()\n",
    "print(fake.name())\n",
    "print(fake.email())\n",
    "print(fake.address())\n",
    "print(fake.country())\n",
    "print(fake.city())\n",
    "print(fake.company_email())\n",
    "print(fake.date_of_birth())\n",
    "# print(fake.()\n",
    "\n"
   ]
  },
  {
   "cell_type": "code",
   "execution_count": 53,
   "metadata": {},
   "outputs": [
    {
     "name": "stdout",
     "output_type": "stream",
     "text": [
      "Research scientist (life sciences)\n",
      "['Upon determine finish arm.', 'Quite yet despite fact become herself teacher. None series state really perform should country.', 'Democrat fund consider certain him. Push hand government person article road. Fund focus its line win. At senior night.']\n",
      "Norwegian Nynorsk\n",
      "$5QhdmC!yb\n",
      "<method-wrapper '__str__' of Faker object at 0x0000019B49E52710>\n"
     ]
    }
   ],
   "source": [
    "print(fake.job())\n",
    "print(fake.paragraphs())\n",
    "print(fake.language_name())\n",
    "print(fake.password())\n"
   ]
  },
  {
   "cell_type": "code",
   "execution_count": 62,
   "metadata": {},
   "outputs": [
    {
     "name": "stdout",
     "output_type": "stream",
     "text": [
      "जयन्ती लाला\n",
      "लीबिया\n",
      "7116 अखिल गर्ग\n",
      "चिपलुन-888804\n"
     ]
    }
   ],
   "source": [
    "# generate hindi names\n",
    "fake=Faker('hi-IN')\n",
    "print(fake.name())\n",
    "print(fake.country())\n",
    "print(fake.address())"
   ]
  }
 ],
 "metadata": {
  "kernelspec": {
   "display_name": "Python 3",
   "language": "python",
   "name": "python3"
  },
  "language_info": {
   "codemirror_mode": {
    "name": "ipython",
    "version": 3
   },
   "file_extension": ".py",
   "mimetype": "text/x-python",
   "name": "python",
   "nbconvert_exporter": "python",
   "pygments_lexer": "ipython3",
   "version": "3.10.4"
  },
  "orig_nbformat": 4,
  "vscode": {
   "interpreter": {
    "hash": "27f6fea6f47ae512550f0b8facdbd035a93e1dd89633f7bf2dd00a2502c71d0d"
   }
  }
 },
 "nbformat": 4,
 "nbformat_minor": 2
}
