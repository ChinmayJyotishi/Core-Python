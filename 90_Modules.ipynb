{
 "cells": [
  {
   "cell_type": "code",
   "execution_count": 1,
   "metadata": {},
   "outputs": [
    {
     "name": "stdout",
     "output_type": "stream",
     "text": [
      "45\n",
      "-25\n",
      "350\n",
      "0.2857142857142857\n",
      "3.14\n"
     ]
    },
    {
     "data": {
      "text/plain": [
       "3.14"
      ]
     },
     "execution_count": 1,
     "metadata": {},
     "output_type": "execute_result"
    }
   ],
   "source": [
    "import hellocalmod  \n",
    "import hellocalmod2  \n",
    "# here we are importing the hellocal module to use all the functions and variables\n",
    "print(hellocalmod .add(10,35))\n",
    "print(hellocalmod .sub(10,35))\n",
    "print(hellocalmod .mul(10,35))\n",
    "print(hellocalmod .div(10,35))\n",
    "print(hellocalmod .pi)\n",
    "hellocalmod.pi #you can print without print in jyupter notebook file"
   ]
  },
  {
   "cell_type": "code",
   "execution_count": 10,
   "metadata": {},
   "outputs": [
    {
     "name": "stdout",
     "output_type": "stream",
     "text": [
      "120\n",
      "40320\n"
     ]
    }
   ],
   "source": [
    "# example of math module\n",
    "\n",
    "import math\n",
    "print(math.factorial(5))\n",
    "print(math.factorial(8))"
   ]
  },
  {
   "cell_type": "code",
   "execution_count": 11,
   "metadata": {},
   "outputs": [
    {
     "name": "stdout",
     "output_type": "stream",
     "text": [
      "15\n"
     ]
    }
   ],
   "source": [
    "# module aliasing\n",
    "import hellocalmod  as h \n",
    "# here we are giving a nick name to a long module name\n",
    "print(h.add(10,5))"
   ]
  },
  {
   "cell_type": "code",
   "execution_count": 15,
   "metadata": {},
   "outputs": [
    {
     "name": "stdout",
     "output_type": "stream",
     "text": [
      "88\n"
     ]
    }
   ],
   "source": [
    "# another way to import the module \n",
    "\n",
    "from hellocalmod  import add\n",
    "#  #it means now i can use only add func without writing module name\n",
    "\n",
    "print(add(100,12))\n",
    "print(sub(100,12)) #but i cant use sub as i didn't import this\n",
    "\n"
   ]
  },
  {
   "cell_type": "code",
   "execution_count": null,
   "metadata": {},
   "outputs": [],
   "source": [
    "from hellocalmod  import add,sub #now i can use sub\n",
    "print(sub(100,12))"
   ]
  },
  {
   "cell_type": "code",
   "execution_count": 17,
   "metadata": {},
   "outputs": [
    {
     "name": "stdout",
     "output_type": "stream",
     "text": [
      "35\n",
      "-33\n"
     ]
    }
   ],
   "source": [
    "# another way to import the module \n",
    "\n",
    "from hellocalmod  import * #it means it will import all the members at a time \n",
    "print(add(10,25))\n",
    "print(sub(25,58))"
   ]
  },
  {
   "cell_type": "code",
   "execution_count": 21,
   "metadata": {},
   "outputs": [
    {
     "name": "stdout",
     "output_type": "stream",
     "text": [
      "26\n",
      "15\n"
     ]
    }
   ],
   "source": [
    "# module member aliasing\n",
    "\n",
    "from hellocalmod import add as a,sub as s\n",
    "print(a(1,25))\n",
    "print(s(100,85))"
   ]
  }
 ],
 "metadata": {
  "kernelspec": {
   "display_name": "Python 3",
   "language": "python",
   "name": "python3"
  },
  "language_info": {
   "codemirror_mode": {
    "name": "ipython",
    "version": 3
   },
   "file_extension": ".py",
   "mimetype": "text/x-python",
   "name": "python",
   "nbconvert_exporter": "python",
   "pygments_lexer": "ipython3",
   "version": "3.10.4"
  },
  "orig_nbformat": 4,
  "vscode": {
   "interpreter": {
    "hash": "27f6fea6f47ae512550f0b8facdbd035a93e1dd89633f7bf2dd00a2502c71d0d"
   }
  }
 },
 "nbformat": 4,
 "nbformat_minor": 2
}
