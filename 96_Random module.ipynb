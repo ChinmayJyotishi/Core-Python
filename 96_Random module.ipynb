{
 "cells": [
  {
   "cell_type": "code",
   "execution_count": 46,
   "metadata": {},
   "outputs": [
    {
     "name": "stdout",
     "output_type": "stream",
     "text": [
      "7\n",
      "0.6737356443303543\n"
     ]
    }
   ],
   "source": [
    "\n",
    "import random as r\n",
    "# randint()-->it will generate any random value between 1 to 10 and both 1 and 10 is included\n",
    "print(r.randint(1,10))\n",
    "\n",
    "\n",
    "#random()--> it will generate  any random float value  between 0 to 1\n",
    "val=(r.random())\n",
    "print(val)"
   ]
  },
  {
   "cell_type": "code",
   "execution_count": 48,
   "metadata": {},
   "outputs": [
    {
     "name": "stdout",
     "output_type": "stream",
     "text": [
      "2\n"
     ]
    }
   ],
   "source": [
    "# randrange()--> same as randint  =but the stop value is not included\n",
    "print(r.randrange(1,10))"
   ]
  },
  {
   "cell_type": "code",
   "execution_count": 81,
   "metadata": {},
   "outputs": [
    {
     "name": "stdout",
     "output_type": "stream",
     "text": [
      "[10, 20, 30, 40]\n",
      "None\n"
     ]
    }
   ],
   "source": [
    "#shuffle()-->it will change the order everytime\n",
    "l=[10,20,30,40]\n",
    "print(l)\n",
    "\n",
    "r.shuffle(l)\n",
    "print(l)"
   ]
  },
  {
   "cell_type": "code",
   "execution_count": 333,
   "metadata": {},
   "outputs": [
    {
     "name": "stdout",
     "output_type": "stream",
     "text": [
      "20.999040785210433\n",
      "Help on method uniform in module random:\n",
      "\n",
      "uniform(a, b) method of random.Random instance\n",
      "    Get a random number in the range [a, b) or [a, b] depending on rounding.\n",
      "\n",
      "None\n"
     ]
    }
   ],
   "source": [
    "#uniform()-->it will generate  any random float value  between the range provided but stop value is not included\n",
    "print(r.uniform(10,21))\n",
    "print(help(r.uniform))"
   ]
  },
  {
   "cell_type": "code",
   "execution_count": 206,
   "metadata": {},
   "outputs": [
    {
     "name": "stdout",
     "output_type": "stream",
     "text": [
      "['mohan', 'jack', 'raja']\n",
      "['ali', 'chinmay']\n",
      "[5173, 9009, 1169, 2131, 3037, 3028, 4720, 6889, 5164, 727, 2793, 8470, 6712, 7405, 8290, 2737, 8552, 6140, 5725, 703, 1912, 578]\n"
     ]
    }
   ],
   "source": [
    "#sample()\n",
    "li=['chinmay','jack','raja','ali','mohan']\n",
    "#it will give any random value as quantity of the value provided\n",
    "print(r.sample(li,3))\n",
    "print(r.sample(li,2))\n",
    "\n",
    "print(r.sample(range(10000),22))"
   ]
  },
  {
   "cell_type": "code",
   "execution_count": 207,
   "metadata": {},
   "outputs": [
    {
     "name": "stdout",
     "output_type": "stream",
     "text": [
      "3\n"
     ]
    }
   ],
   "source": [
    "l1=[10,20,30,40,54,89,25]\n",
    "data=r.sample(l1,k=True+True*2)\n",
    "print(len(data))"
   ]
  },
  {
   "cell_type": "code",
   "execution_count": 159,
   "metadata": {},
   "outputs": [
    {
     "name": "stdout",
     "output_type": "stream",
     "text": [
      "10\n"
     ]
    }
   ],
   "source": [
    "# choice() # it will give u any one value\n",
    "l=[10,20,30,40]\n",
    "print(r.choice(l))"
   ]
  },
  {
   "cell_type": "code",
   "execution_count": 205,
   "metadata": {},
   "outputs": [
    {
     "name": "stdout",
     "output_type": "stream",
     "text": [
      "284\n"
     ]
    }
   ],
   "source": [
    "l=range(1000)\n",
    "print(r.choice(l))"
   ]
  }
 ],
 "metadata": {
  "kernelspec": {
   "display_name": "Python 3",
   "language": "python",
   "name": "python3"
  },
  "language_info": {
   "codemirror_mode": {
    "name": "ipython",
    "version": 3
   },
   "file_extension": ".py",
   "mimetype": "text/x-python",
   "name": "python",
   "nbconvert_exporter": "python",
   "pygments_lexer": "ipython3",
   "version": "3.10.4 (tags/v3.10.4:9d38120, Mar 23 2022, 23:13:41) [MSC v.1929 64 bit (AMD64)]"
  },
  "orig_nbformat": 4,
  "vscode": {
   "interpreter": {
    "hash": "27f6fea6f47ae512550f0b8facdbd035a93e1dd89633f7bf2dd00a2502c71d0d"
   }
  }
 },
 "nbformat": 4,
 "nbformat_minor": 2
}
